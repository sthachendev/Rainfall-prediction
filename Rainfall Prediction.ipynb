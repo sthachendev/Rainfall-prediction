{
 "cells": [
  {
   "cell_type": "markdown",
   "id": "3b828302",
   "metadata": {},
   "source": [
    "### Data Exploration and Discovery"
   ]
  },
  {
   "cell_type": "code",
   "execution_count": 1,
   "id": "c7020abd",
   "metadata": {},
   "outputs": [],
   "source": [
    "import pandas as pd"
   ]
  },
  {
   "cell_type": "code",
   "execution_count": 2,
   "id": "87491b31",
   "metadata": {},
   "outputs": [
    {
     "data": {
      "text/html": [
       "<div>\n",
       "<style scoped>\n",
       "    .dataframe tbody tr th:only-of-type {\n",
       "        vertical-align: middle;\n",
       "    }\n",
       "\n",
       "    .dataframe tbody tr th {\n",
       "        vertical-align: top;\n",
       "    }\n",
       "\n",
       "    .dataframe thead th {\n",
       "        text-align: right;\n",
       "    }\n",
       "</style>\n",
       "<table border=\"1\" class=\"dataframe\">\n",
       "  <thead>\n",
       "    <tr style=\"text-align: right;\">\n",
       "      <th></th>\n",
       "      <th>location</th>\n",
       "      <th>Year</th>\n",
       "      <th>Month</th>\n",
       "      <th>Tmax</th>\n",
       "      <th>Tmin</th>\n",
       "      <th>RH</th>\n",
       "      <th>Wind Speed</th>\n",
       "      <th>Rainfall</th>\n",
       "    </tr>\n",
       "  </thead>\n",
       "  <tbody>\n",
       "    <tr>\n",
       "      <th>0</th>\n",
       "      <td>Paro</td>\n",
       "      <td>2000</td>\n",
       "      <td>1</td>\n",
       "      <td>9.5</td>\n",
       "      <td>-0.4</td>\n",
       "      <td>65.0</td>\n",
       "      <td>0.26</td>\n",
       "      <td>0.0</td>\n",
       "    </tr>\n",
       "    <tr>\n",
       "      <th>1</th>\n",
       "      <td>Paro</td>\n",
       "      <td>2000</td>\n",
       "      <td>2</td>\n",
       "      <td>10.6</td>\n",
       "      <td>2.0</td>\n",
       "      <td>65.0</td>\n",
       "      <td>0.52</td>\n",
       "      <td>0.0</td>\n",
       "    </tr>\n",
       "    <tr>\n",
       "      <th>2</th>\n",
       "      <td>Paro</td>\n",
       "      <td>2000</td>\n",
       "      <td>3</td>\n",
       "      <td>14.5</td>\n",
       "      <td>4.0</td>\n",
       "      <td>69.0</td>\n",
       "      <td>0.52</td>\n",
       "      <td>11.0</td>\n",
       "    </tr>\n",
       "    <tr>\n",
       "      <th>3</th>\n",
       "      <td>Paro</td>\n",
       "      <td>2000</td>\n",
       "      <td>4</td>\n",
       "      <td>19.6</td>\n",
       "      <td>8.7</td>\n",
       "      <td>77.0</td>\n",
       "      <td>0.42</td>\n",
       "      <td>23.4</td>\n",
       "    </tr>\n",
       "    <tr>\n",
       "      <th>4</th>\n",
       "      <td>Paro</td>\n",
       "      <td>2000</td>\n",
       "      <td>5</td>\n",
       "      <td>22.5</td>\n",
       "      <td>10.2</td>\n",
       "      <td>77.0</td>\n",
       "      <td>0.24</td>\n",
       "      <td>98.4</td>\n",
       "    </tr>\n",
       "  </tbody>\n",
       "</table>\n",
       "</div>"
      ],
      "text/plain": [
       "  location  Year  Month  Tmax  Tmin    RH  Wind Speed  Rainfall\n",
       "0     Paro  2000      1   9.5  -0.4  65.0        0.26       0.0\n",
       "1     Paro  2000      2  10.6   2.0  65.0        0.52       0.0\n",
       "2     Paro  2000      3  14.5   4.0  69.0        0.52      11.0\n",
       "3     Paro  2000      4  19.6   8.7  77.0        0.42      23.4\n",
       "4     Paro  2000      5  22.5  10.2  77.0        0.24      98.4"
      ]
     },
     "execution_count": 2,
     "metadata": {},
     "output_type": "execute_result"
    }
   ],
   "source": [
    "df = pd.read_csv('rainfall.csv')\n",
    "df.head()"
   ]
  },
  {
   "cell_type": "code",
   "execution_count": 3,
   "id": "08a4adb9",
   "metadata": {},
   "outputs": [
    {
     "data": {
      "text/html": [
       "<div>\n",
       "<style scoped>\n",
       "    .dataframe tbody tr th:only-of-type {\n",
       "        vertical-align: middle;\n",
       "    }\n",
       "\n",
       "    .dataframe tbody tr th {\n",
       "        vertical-align: top;\n",
       "    }\n",
       "\n",
       "    .dataframe thead th {\n",
       "        text-align: right;\n",
       "    }\n",
       "</style>\n",
       "<table border=\"1\" class=\"dataframe\">\n",
       "  <thead>\n",
       "    <tr style=\"text-align: right;\">\n",
       "      <th></th>\n",
       "      <th>location</th>\n",
       "      <th>Year</th>\n",
       "      <th>Month</th>\n",
       "      <th>Tmax</th>\n",
       "      <th>Tmin</th>\n",
       "      <th>RH</th>\n",
       "      <th>Wind Speed</th>\n",
       "      <th>Rainfall</th>\n",
       "    </tr>\n",
       "  </thead>\n",
       "  <tbody>\n",
       "    <tr>\n",
       "      <th>2634</th>\n",
       "      <td>Tashiyangtse</td>\n",
       "      <td>2021</td>\n",
       "      <td>8</td>\n",
       "      <td>25.306452</td>\n",
       "      <td>19.322581</td>\n",
       "      <td>86.129032</td>\n",
       "      <td>0.283226</td>\n",
       "      <td>192.3</td>\n",
       "    </tr>\n",
       "    <tr>\n",
       "      <th>2635</th>\n",
       "      <td>Tashiyangtse</td>\n",
       "      <td>2021</td>\n",
       "      <td>9</td>\n",
       "      <td>27.500000</td>\n",
       "      <td>16.816667</td>\n",
       "      <td>78.966667</td>\n",
       "      <td>0.283000</td>\n",
       "      <td>139.8</td>\n",
       "    </tr>\n",
       "    <tr>\n",
       "      <th>2636</th>\n",
       "      <td>Tashiyangtse</td>\n",
       "      <td>2021</td>\n",
       "      <td>10</td>\n",
       "      <td>24.951613</td>\n",
       "      <td>12.790323</td>\n",
       "      <td>78.838710</td>\n",
       "      <td>0.286129</td>\n",
       "      <td>94.6</td>\n",
       "    </tr>\n",
       "    <tr>\n",
       "      <th>2637</th>\n",
       "      <td>Tashiyangtse</td>\n",
       "      <td>2021</td>\n",
       "      <td>11</td>\n",
       "      <td>20.050000</td>\n",
       "      <td>6.266667</td>\n",
       "      <td>75.666667</td>\n",
       "      <td>0.328333</td>\n",
       "      <td>9.0</td>\n",
       "    </tr>\n",
       "    <tr>\n",
       "      <th>2638</th>\n",
       "      <td>Tashiyangtse</td>\n",
       "      <td>2021</td>\n",
       "      <td>12</td>\n",
       "      <td>16.854839</td>\n",
       "      <td>1.935484</td>\n",
       "      <td>74.483871</td>\n",
       "      <td>0.321290</td>\n",
       "      <td>21.0</td>\n",
       "    </tr>\n",
       "  </tbody>\n",
       "</table>\n",
       "</div>"
      ],
      "text/plain": [
       "          location  Year  Month       Tmax       Tmin         RH  Wind Speed  \\\n",
       "2634  Tashiyangtse  2021      8  25.306452  19.322581  86.129032    0.283226   \n",
       "2635  Tashiyangtse  2021      9  27.500000  16.816667  78.966667    0.283000   \n",
       "2636  Tashiyangtse  2021     10  24.951613  12.790323  78.838710    0.286129   \n",
       "2637  Tashiyangtse  2021     11  20.050000   6.266667  75.666667    0.328333   \n",
       "2638  Tashiyangtse  2021     12  16.854839   1.935484  74.483871    0.321290   \n",
       "\n",
       "      Rainfall  \n",
       "2634     192.3  \n",
       "2635     139.8  \n",
       "2636      94.6  \n",
       "2637       9.0  \n",
       "2638      21.0  "
      ]
     },
     "execution_count": 3,
     "metadata": {},
     "output_type": "execute_result"
    }
   ],
   "source": [
    "df.tail()"
   ]
  },
  {
   "cell_type": "code",
   "execution_count": 4,
   "id": "cac53cf8",
   "metadata": {},
   "outputs": [
    {
     "data": {
      "text/plain": [
       "(2639, 8)"
      ]
     },
     "execution_count": 4,
     "metadata": {},
     "output_type": "execute_result"
    }
   ],
   "source": [
    "df.shape"
   ]
  },
  {
   "cell_type": "code",
   "execution_count": 5,
   "id": "8cdd4057",
   "metadata": {},
   "outputs": [
    {
     "data": {
      "text/plain": [
       "Index(['location', 'Year', 'Month', 'Tmax', 'Tmin', 'RH', 'Wind Speed',\n",
       "       'Rainfall'],\n",
       "      dtype='object')"
      ]
     },
     "execution_count": 5,
     "metadata": {},
     "output_type": "execute_result"
    }
   ],
   "source": [
    "df.columns"
   ]
  },
  {
   "cell_type": "code",
   "execution_count": 6,
   "id": "2522c803",
   "metadata": {},
   "outputs": [
    {
     "data": {
      "text/plain": [
       "location       object\n",
       "Year            int64\n",
       "Month           int64\n",
       "Tmax          float64\n",
       "Tmin          float64\n",
       "RH            float64\n",
       "Wind Speed    float64\n",
       "Rainfall      float64\n",
       "dtype: object"
      ]
     },
     "execution_count": 6,
     "metadata": {},
     "output_type": "execute_result"
    }
   ],
   "source": [
    "df.dtypes"
   ]
  },
  {
   "cell_type": "code",
   "execution_count": 7,
   "id": "26a3882f",
   "metadata": {},
   "outputs": [
    {
     "data": {
      "text/html": [
       "<div>\n",
       "<style scoped>\n",
       "    .dataframe tbody tr th:only-of-type {\n",
       "        vertical-align: middle;\n",
       "    }\n",
       "\n",
       "    .dataframe tbody tr th {\n",
       "        vertical-align: top;\n",
       "    }\n",
       "\n",
       "    .dataframe thead th {\n",
       "        text-align: right;\n",
       "    }\n",
       "</style>\n",
       "<table border=\"1\" class=\"dataframe\">\n",
       "  <thead>\n",
       "    <tr style=\"text-align: right;\">\n",
       "      <th></th>\n",
       "      <th>Year</th>\n",
       "      <th>Month</th>\n",
       "      <th>Tmax</th>\n",
       "      <th>Tmin</th>\n",
       "      <th>RH</th>\n",
       "      <th>Wind Speed</th>\n",
       "      <th>Rainfall</th>\n",
       "    </tr>\n",
       "  </thead>\n",
       "  <tbody>\n",
       "    <tr>\n",
       "      <th>count</th>\n",
       "      <td>2639.000000</td>\n",
       "      <td>2639.000000</td>\n",
       "      <td>2638.000000</td>\n",
       "      <td>2638.000000</td>\n",
       "      <td>2637.000000</td>\n",
       "      <td>2632.000000</td>\n",
       "      <td>2638.000000</td>\n",
       "    </tr>\n",
       "    <tr>\n",
       "      <th>mean</th>\n",
       "      <td>2010.498295</td>\n",
       "      <td>6.498674</td>\n",
       "      <td>21.468284</td>\n",
       "      <td>10.305516</td>\n",
       "      <td>72.616870</td>\n",
       "      <td>0.824214</td>\n",
       "      <td>99.919894</td>\n",
       "    </tr>\n",
       "    <tr>\n",
       "      <th>std</th>\n",
       "      <td>6.346088</td>\n",
       "      <td>3.453457</td>\n",
       "      <td>5.040461</td>\n",
       "      <td>6.835671</td>\n",
       "      <td>9.919349</td>\n",
       "      <td>0.427144</td>\n",
       "      <td>160.770207</td>\n",
       "    </tr>\n",
       "    <tr>\n",
       "      <th>min</th>\n",
       "      <td>2000.000000</td>\n",
       "      <td>1.000000</td>\n",
       "      <td>7.300000</td>\n",
       "      <td>-8.403226</td>\n",
       "      <td>36.000000</td>\n",
       "      <td>0.003226</td>\n",
       "      <td>0.000000</td>\n",
       "    </tr>\n",
       "    <tr>\n",
       "      <th>25%</th>\n",
       "      <td>2005.000000</td>\n",
       "      <td>3.500000</td>\n",
       "      <td>17.900000</td>\n",
       "      <td>5.596774</td>\n",
       "      <td>66.225806</td>\n",
       "      <td>0.525572</td>\n",
       "      <td>7.900000</td>\n",
       "    </tr>\n",
       "    <tr>\n",
       "      <th>50%</th>\n",
       "      <td>2010.000000</td>\n",
       "      <td>6.000000</td>\n",
       "      <td>21.967742</td>\n",
       "      <td>11.303226</td>\n",
       "      <td>73.000000</td>\n",
       "      <td>0.793333</td>\n",
       "      <td>51.000000</td>\n",
       "    </tr>\n",
       "    <tr>\n",
       "      <th>75%</th>\n",
       "      <td>2016.000000</td>\n",
       "      <td>9.500000</td>\n",
       "      <td>25.100000</td>\n",
       "      <td>15.642204</td>\n",
       "      <td>79.741935</td>\n",
       "      <td>1.090000</td>\n",
       "      <td>129.900000</td>\n",
       "    </tr>\n",
       "    <tr>\n",
       "      <th>max</th>\n",
       "      <td>2021.000000</td>\n",
       "      <td>12.000000</td>\n",
       "      <td>34.354839</td>\n",
       "      <td>24.033333</td>\n",
       "      <td>98.967742</td>\n",
       "      <td>4.470000</td>\n",
       "      <td>2125.900000</td>\n",
       "    </tr>\n",
       "  </tbody>\n",
       "</table>\n",
       "</div>"
      ],
      "text/plain": [
       "              Year        Month         Tmax         Tmin           RH  \\\n",
       "count  2639.000000  2639.000000  2638.000000  2638.000000  2637.000000   \n",
       "mean   2010.498295     6.498674    21.468284    10.305516    72.616870   \n",
       "std       6.346088     3.453457     5.040461     6.835671     9.919349   \n",
       "min    2000.000000     1.000000     7.300000    -8.403226    36.000000   \n",
       "25%    2005.000000     3.500000    17.900000     5.596774    66.225806   \n",
       "50%    2010.000000     6.000000    21.967742    11.303226    73.000000   \n",
       "75%    2016.000000     9.500000    25.100000    15.642204    79.741935   \n",
       "max    2021.000000    12.000000    34.354839    24.033333    98.967742   \n",
       "\n",
       "        Wind Speed     Rainfall  \n",
       "count  2632.000000  2638.000000  \n",
       "mean      0.824214    99.919894  \n",
       "std       0.427144   160.770207  \n",
       "min       0.003226     0.000000  \n",
       "25%       0.525572     7.900000  \n",
       "50%       0.793333    51.000000  \n",
       "75%       1.090000   129.900000  \n",
       "max       4.470000  2125.900000  "
      ]
     },
     "execution_count": 7,
     "metadata": {},
     "output_type": "execute_result"
    }
   ],
   "source": [
    "df.describe()"
   ]
  },
  {
   "cell_type": "markdown",
   "id": "32148e4e",
   "metadata": {},
   "source": [
    "### Handle Missing Value"
   ]
  },
  {
   "cell_type": "code",
   "execution_count": 8,
   "id": "02ee45da",
   "metadata": {},
   "outputs": [
    {
     "data": {
      "text/plain": [
       "location      0\n",
       "Year          0\n",
       "Month         0\n",
       "Tmax          1\n",
       "Tmin          1\n",
       "RH            2\n",
       "Wind Speed    7\n",
       "Rainfall      1\n",
       "dtype: int64"
      ]
     },
     "execution_count": 8,
     "metadata": {},
     "output_type": "execute_result"
    }
   ],
   "source": [
    "df.isnull().sum()"
   ]
  },
  {
   "cell_type": "code",
   "execution_count": 9,
   "id": "ef32cc6a",
   "metadata": {},
   "outputs": [
    {
     "data": {
      "text/plain": [
       "location      0\n",
       "Year          0\n",
       "Month         0\n",
       "Tmax          0\n",
       "Tmin          0\n",
       "RH            0\n",
       "Wind Speed    0\n",
       "Rainfall      0\n",
       "dtype: int64"
      ]
     },
     "execution_count": 9,
     "metadata": {},
     "output_type": "execute_result"
    }
   ],
   "source": [
    "df = df.dropna()\n",
    "df.isnull().sum()"
   ]
  },
  {
   "cell_type": "markdown",
   "id": "e7cadc96",
   "metadata": {},
   "source": [
    "#### Label encoding location "
   ]
  },
  {
   "cell_type": "code",
   "execution_count": 10,
   "id": "78060ab6",
   "metadata": {},
   "outputs": [
    {
     "data": {
      "text/plain": [
       "Paro            264\n",
       "simkotha        264\n",
       "Haa             264\n",
       "Kanglung        264\n",
       "Mongar          264\n",
       "Chamkhar        263\n",
       "Deothang        263\n",
       "Punakha         262\n",
       "Pemagatshel     261\n",
       "Tashiyangtse    261\n",
       "Name: location, dtype: int64"
      ]
     },
     "execution_count": 10,
     "metadata": {},
     "output_type": "execute_result"
    }
   ],
   "source": [
    "df['location'].value_counts()"
   ]
  },
  {
   "cell_type": "code",
   "execution_count": 11,
   "id": "c93fdac9",
   "metadata": {},
   "outputs": [
    {
     "data": {
      "text/html": [
       "<div>\n",
       "<style scoped>\n",
       "    .dataframe tbody tr th:only-of-type {\n",
       "        vertical-align: middle;\n",
       "    }\n",
       "\n",
       "    .dataframe tbody tr th {\n",
       "        vertical-align: top;\n",
       "    }\n",
       "\n",
       "    .dataframe thead th {\n",
       "        text-align: right;\n",
       "    }\n",
       "</style>\n",
       "<table border=\"1\" class=\"dataframe\">\n",
       "  <thead>\n",
       "    <tr style=\"text-align: right;\">\n",
       "      <th></th>\n",
       "      <th>location</th>\n",
       "      <th>Year</th>\n",
       "      <th>Month</th>\n",
       "      <th>Tmax</th>\n",
       "      <th>Tmin</th>\n",
       "      <th>RH</th>\n",
       "      <th>Wind Speed</th>\n",
       "      <th>Rainfall</th>\n",
       "    </tr>\n",
       "  </thead>\n",
       "  <tbody>\n",
       "    <tr>\n",
       "      <th>0</th>\n",
       "      <td>5</td>\n",
       "      <td>2000</td>\n",
       "      <td>1</td>\n",
       "      <td>9.5</td>\n",
       "      <td>-0.4</td>\n",
       "      <td>65.0</td>\n",
       "      <td>0.26</td>\n",
       "      <td>0.0</td>\n",
       "    </tr>\n",
       "    <tr>\n",
       "      <th>1</th>\n",
       "      <td>5</td>\n",
       "      <td>2000</td>\n",
       "      <td>2</td>\n",
       "      <td>10.6</td>\n",
       "      <td>2.0</td>\n",
       "      <td>65.0</td>\n",
       "      <td>0.52</td>\n",
       "      <td>0.0</td>\n",
       "    </tr>\n",
       "    <tr>\n",
       "      <th>2</th>\n",
       "      <td>5</td>\n",
       "      <td>2000</td>\n",
       "      <td>3</td>\n",
       "      <td>14.5</td>\n",
       "      <td>4.0</td>\n",
       "      <td>69.0</td>\n",
       "      <td>0.52</td>\n",
       "      <td>11.0</td>\n",
       "    </tr>\n",
       "    <tr>\n",
       "      <th>3</th>\n",
       "      <td>5</td>\n",
       "      <td>2000</td>\n",
       "      <td>4</td>\n",
       "      <td>19.6</td>\n",
       "      <td>8.7</td>\n",
       "      <td>77.0</td>\n",
       "      <td>0.42</td>\n",
       "      <td>23.4</td>\n",
       "    </tr>\n",
       "    <tr>\n",
       "      <th>4</th>\n",
       "      <td>5</td>\n",
       "      <td>2000</td>\n",
       "      <td>5</td>\n",
       "      <td>22.5</td>\n",
       "      <td>10.2</td>\n",
       "      <td>77.0</td>\n",
       "      <td>0.24</td>\n",
       "      <td>98.4</td>\n",
       "    </tr>\n",
       "  </tbody>\n",
       "</table>\n",
       "</div>"
      ],
      "text/plain": [
       "   location  Year  Month  Tmax  Tmin    RH  Wind Speed  Rainfall\n",
       "0         5  2000      1   9.5  -0.4  65.0        0.26       0.0\n",
       "1         5  2000      2  10.6   2.0  65.0        0.52       0.0\n",
       "2         5  2000      3  14.5   4.0  69.0        0.52      11.0\n",
       "3         5  2000      4  19.6   8.7  77.0        0.42      23.4\n",
       "4         5  2000      5  22.5  10.2  77.0        0.24      98.4"
      ]
     },
     "execution_count": 11,
     "metadata": {},
     "output_type": "execute_result"
    }
   ],
   "source": [
    "from sklearn import preprocessing \n",
    "\n",
    "label_encoder = preprocessing.LabelEncoder()\n",
    "df['location'] = label_encoder.fit_transform(df['location'])\n",
    "df.head()"
   ]
  },
  {
   "cell_type": "code",
   "execution_count": 12,
   "id": "c0a1ab8d",
   "metadata": {},
   "outputs": [
    {
     "data": {
      "text/plain": [
       "array([5, 6, 7, 9, 0, 1, 2, 3, 4, 8])"
      ]
     },
     "execution_count": 12,
     "metadata": {},
     "output_type": "execute_result"
    }
   ],
   "source": [
    "df.location.unique()"
   ]
  },
  {
   "cell_type": "markdown",
   "id": "f279ed9b",
   "metadata": {},
   "source": [
    "### Visualization"
   ]
  },
  {
   "cell_type": "code",
   "execution_count": 13,
   "id": "3149966e",
   "metadata": {},
   "outputs": [],
   "source": [
    "import matplotlib.pyplot as plt"
   ]
  },
  {
   "cell_type": "code",
   "execution_count": 14,
   "id": "98f95020",
   "metadata": {},
   "outputs": [
    {
     "data": {
      "image/png": "[encoded data removed]",
      "text/plain": [
       "<Figure size 432x288 with 1 Axes>"
      ]
     },
     "metadata": {
      "needs_background": "light"
     },
     "output_type": "display_data"
    }
   ],
   "source": [
    "x = df.Tmax\n",
    "y = df.Rainfall\n",
    "plt.scatter(x,y)\n",
    "plt.xlabel('Tmax (c)')\n",
    "plt.ylabel('Rainfall (ml)')\n",
    "plt.show()"
   ]
  },
  {
   "cell_type": "code",
   "execution_count": 15,
   "id": "feaa2d47",
   "metadata": {},
   "outputs": [
    {
     "data": {
      "image/png": "[encoded data removed]",
      "text/plain": [
       "<Figure size 432x288 with 1 Axes>"
      ]
     },
     "metadata": {
      "needs_background": "light"
     },
     "output_type": "display_data"
    }
   ],
   "source": [
    "x = df.Tmin\n",
    "y = df.Rainfall\n",
    "plt.scatter(x,y)\n",
    "plt.xlabel('Tmin (c)')\n",
    "plt.ylabel('Rainfall (ml)')\n",
    "plt.show()"
   ]
  },
  {
   "cell_type": "code",
   "execution_count": 16,
   "id": "13a3450b",
   "metadata": {},
   "outputs": [
    {
     "data": {
      "image/png": "[encoded data removed]",
      "text/plain": [
       "<Figure size 432x288 with 1 Axes>"
      ]
     },
     "metadata": {
      "needs_background": "light"
     },
     "output_type": "display_data"
    }
   ],
   "source": [
    "x = df.RH\n",
    "y = df.Rainfall\n",
    "plt.scatter(x,y)\n",
    "plt.xlabel('Relative Humidity (RH) (%)')\n",
    "plt.ylabel('Rainfall (ml)')\n",
    "plt.show()"
   ]
  },
  {
   "cell_type": "code",
   "execution_count": 17,
   "id": "7c55cd20",
   "metadata": {},
   "outputs": [
    {
     "data": {
      "image/png": "[encoded data removed]",
      "text/plain": [
       "<Figure size 432x288 with 1 Axes>"
      ]
     },
     "metadata": {
      "needs_background": "light"
     },
     "output_type": "display_data"
    }
   ],
   "source": [
    "x = df['Wind Speed']\n",
    "y = df.Rainfall\n",
    "plt.scatter(x,y)\n",
    "plt.xlabel('Wind speed (m/s)')\n",
    "plt.ylabel('Rainfall (ml)')\n",
    "plt.show()"
   ]
  },
  {
   "cell_type": "markdown",
   "id": "a1e4510c",
   "metadata": {},
   "source": [
    "### Removing Outliers"
   ]
  },
  {
   "cell_type": "code",
   "execution_count": 18,
   "id": "105c8f71",
   "metadata": {},
   "outputs": [],
   "source": [
    "import seaborn as sns"
   ]
  },
  {
   "cell_type": "code",
   "execution_count": 19,
   "id": "b88eac2b",
   "metadata": {},
   "outputs": [
    {
     "data": {
      "image/png": "[encoded data removed]",
      "text/plain": [
       "<Figure size 432x288 with 1 Axes>"
      ]
     },
     "metadata": {
      "needs_background": "light"
     },
     "output_type": "display_data"
    }
   ],
   "source": [
    "#finding outliers\n",
    "sns.boxplot(x=df.RH)\n",
    "plt.show()"
   ]
  },
  {
   "cell_type": "code",
   "execution_count": 20,
   "id": "91203e54",
   "metadata": {},
   "outputs": [
    {
     "data": {
      "text/plain": [
       "(2612, 8)"
      ]
     },
     "execution_count": 20,
     "metadata": {},
     "output_type": "execute_result"
    }
   ],
   "source": [
    "#removing outliers\n",
    "Q1 = df.RH.quantile(0.25)\n",
    "Q3 = df.RH.quantile(0.75)\n",
    "\n",
    "IQR = Q3 - Q1\n",
    "\n",
    "upperlimit = Q3 + (IQR * 1.5)\n",
    "lowerlimit = Q1 - (IQR * 1.5)\n",
    "\n",
    "df2=df[(df.RH> lowerlimit)  & (df.RH < upperlimit)]\n",
    "df2.shape"
   ]
  },
  {
   "cell_type": "code",
   "execution_count": 21,
   "id": "71de006e",
   "metadata": {},
   "outputs": [
    {
     "data": {
      "image/png": "[encoded data removed]",
      "text/plain": [
       "<Figure size 432x288 with 1 Axes>"
      ]
     },
     "metadata": {
      "needs_background": "light"
     },
     "output_type": "display_data"
    }
   ],
   "source": [
    "#after removing outliers from RH\n",
    "sns.boxplot(x=df2.RH)\n",
    "plt.show()"
   ]
  },
  {
   "cell_type": "code",
   "execution_count": 22,
   "id": "e6552dcf",
   "metadata": {},
   "outputs": [
    {
     "data": {
      "image/png": "[encoded data removed]",
      "text/plain": [
       "<Figure size 432x288 with 1 Axes>"
      ]
     },
     "metadata": {
      "needs_background": "light"
     },
     "output_type": "display_data"
    }
   ],
   "source": [
    "#finding outliers\n",
    "sns.boxplot(x=df2['Wind Speed'])\n",
    "plt.show()"
   ]
  },
  {
   "cell_type": "code",
   "execution_count": 23,
   "id": "adde8c28",
   "metadata": {},
   "outputs": [
    {
     "data": {
      "text/plain": [
       "(2582, 8)"
      ]
     },
     "execution_count": 23,
     "metadata": {},
     "output_type": "execute_result"
    }
   ],
   "source": [
    "#removing outliers\n",
    "Q1 = df2['Wind Speed'].quantile(0.25)\n",
    "Q3 = df2['Wind Speed'].quantile(0.75)\n",
    "\n",
    "IQR = Q3 - Q1\n",
    "\n",
    "upperlimit = Q3 + (IQR * 1.5)\n",
    "lowerlimit = Q1 - (IQR * 1.5)\n",
    "\n",
    "df3=df2[(df2['Wind Speed']> lowerlimit)  & (df2['Wind Speed'] < upperlimit)]\n",
    "df3.shape"
   ]
  },
  {
   "cell_type": "code",
   "execution_count": 24,
   "id": "dac763ba",
   "metadata": {},
   "outputs": [
    {
     "data": {
      "image/png": "[encoded data removed]",
      "text/plain": [
       "<Figure size 432x288 with 1 Axes>"
      ]
     },
     "metadata": {
      "needs_background": "light"
     },
     "output_type": "display_data"
    }
   ],
   "source": [
    "#after removing outliers from Wind Speed\n",
    "sns.boxplot(x=df3['Wind Speed'])\n",
    "plt.show()"
   ]
  },
  {
   "cell_type": "markdown",
   "id": "c5d2782e",
   "metadata": {},
   "source": [
    "### Heatmap"
   ]
  },
  {
   "cell_type": "code",
   "execution_count": 25,
   "id": "5e79d3ae",
   "metadata": {},
   "outputs": [
    {
     "data": {
      "text/html": [
       "<div>\n",
       "<style scoped>\n",
       "    .dataframe tbody tr th:only-of-type {\n",
       "        vertical-align: middle;\n",
       "    }\n",
       "\n",
       "    .dataframe tbody tr th {\n",
       "        vertical-align: top;\n",
       "    }\n",
       "\n",
       "    .dataframe thead th {\n",
       "        text-align: right;\n",
       "    }\n",
       "</style>\n",
       "<table border=\"1\" class=\"dataframe\">\n",
       "  <thead>\n",
       "    <tr style=\"text-align: right;\">\n",
       "      <th></th>\n",
       "      <th>location</th>\n",
       "      <th>Year</th>\n",
       "      <th>Month</th>\n",
       "      <th>Tmax</th>\n",
       "      <th>Tmin</th>\n",
       "      <th>RH</th>\n",
       "      <th>Wind Speed</th>\n",
       "      <th>Rainfall</th>\n",
       "    </tr>\n",
       "  </thead>\n",
       "  <tbody>\n",
       "    <tr>\n",
       "      <th>location</th>\n",
       "      <td>1.000000</td>\n",
       "      <td>-0.008170</td>\n",
       "      <td>0.002848</td>\n",
       "      <td>0.174059</td>\n",
       "      <td>0.048806</td>\n",
       "      <td>-0.065953</td>\n",
       "      <td>-0.150936</td>\n",
       "      <td>-0.167469</td>\n",
       "    </tr>\n",
       "    <tr>\n",
       "      <th>Year</th>\n",
       "      <td>-0.008170</td>\n",
       "      <td>1.000000</td>\n",
       "      <td>-0.006612</td>\n",
       "      <td>0.067320</td>\n",
       "      <td>-0.029599</td>\n",
       "      <td>-0.152562</td>\n",
       "      <td>-0.159690</td>\n",
       "      <td>-0.001988</td>\n",
       "    </tr>\n",
       "    <tr>\n",
       "      <th>Month</th>\n",
       "      <td>0.002848</td>\n",
       "      <td>-0.006612</td>\n",
       "      <td>1.000000</td>\n",
       "      <td>0.204002</td>\n",
       "      <td>0.193400</td>\n",
       "      <td>0.124974</td>\n",
       "      <td>-0.248433</td>\n",
       "      <td>0.040837</td>\n",
       "    </tr>\n",
       "    <tr>\n",
       "      <th>Tmax</th>\n",
       "      <td>0.174059</td>\n",
       "      <td>0.067320</td>\n",
       "      <td>0.204002</td>\n",
       "      <td>1.000000</td>\n",
       "      <td>0.874893</td>\n",
       "      <td>0.356817</td>\n",
       "      <td>-0.254937</td>\n",
       "      <td>0.400750</td>\n",
       "    </tr>\n",
       "    <tr>\n",
       "      <th>Tmin</th>\n",
       "      <td>0.048806</td>\n",
       "      <td>-0.029599</td>\n",
       "      <td>0.193400</td>\n",
       "      <td>0.874893</td>\n",
       "      <td>1.000000</td>\n",
       "      <td>0.535584</td>\n",
       "      <td>-0.291513</td>\n",
       "      <td>0.520665</td>\n",
       "    </tr>\n",
       "    <tr>\n",
       "      <th>RH</th>\n",
       "      <td>-0.065953</td>\n",
       "      <td>-0.152562</td>\n",
       "      <td>0.124974</td>\n",
       "      <td>0.356817</td>\n",
       "      <td>0.535584</td>\n",
       "      <td>1.000000</td>\n",
       "      <td>-0.314215</td>\n",
       "      <td>0.510760</td>\n",
       "    </tr>\n",
       "    <tr>\n",
       "      <th>Wind Speed</th>\n",
       "      <td>-0.150936</td>\n",
       "      <td>-0.159690</td>\n",
       "      <td>-0.248433</td>\n",
       "      <td>-0.254937</td>\n",
       "      <td>-0.291513</td>\n",
       "      <td>-0.314215</td>\n",
       "      <td>1.000000</td>\n",
       "      <td>-0.224458</td>\n",
       "    </tr>\n",
       "    <tr>\n",
       "      <th>Rainfall</th>\n",
       "      <td>-0.167469</td>\n",
       "      <td>-0.001988</td>\n",
       "      <td>0.040837</td>\n",
       "      <td>0.400750</td>\n",
       "      <td>0.520665</td>\n",
       "      <td>0.510760</td>\n",
       "      <td>-0.224458</td>\n",
       "      <td>1.000000</td>\n",
       "    </tr>\n",
       "  </tbody>\n",
       "</table>\n",
       "</div>"
      ],
      "text/plain": [
       "            location      Year     Month      Tmax      Tmin        RH  \\\n",
       "location    1.000000 -0.008170  0.002848  0.174059  0.048806 -0.065953   \n",
       "Year       -0.008170  1.000000 -0.006612  0.067320 -0.029599 -0.152562   \n",
       "Month       0.002848 -0.006612  1.000000  0.204002  0.193400  0.124974   \n",
       "Tmax        0.174059  0.067320  0.204002  1.000000  0.874893  0.356817   \n",
       "Tmin        0.048806 -0.029599  0.193400  0.874893  1.000000  0.535584   \n",
       "RH         -0.065953 -0.152562  0.124974  0.356817  0.535584  1.000000   \n",
       "Wind Speed -0.150936 -0.159690 -0.248433 -0.254937 -0.291513 -0.314215   \n",
       "Rainfall   -0.167469 -0.001988  0.040837  0.400750  0.520665  0.510760   \n",
       "\n",
       "            Wind Speed  Rainfall  \n",
       "location     -0.150936 -0.167469  \n",
       "Year         -0.159690 -0.001988  \n",
       "Month        -0.248433  0.040837  \n",
       "Tmax         -0.254937  0.400750  \n",
       "Tmin         -0.291513  0.520665  \n",
       "RH           -0.314215  0.510760  \n",
       "Wind Speed    1.000000 -0.224458  \n",
       "Rainfall     -0.224458  1.000000  "
      ]
     },
     "execution_count": 25,
     "metadata": {},
     "output_type": "execute_result"
    }
   ],
   "source": [
    "df3.corr()"
   ]
  },
  {
   "cell_type": "code",
   "execution_count": 26,
   "id": "8cdf9525",
   "metadata": {},
   "outputs": [
    {
     "data": {
      "text/plain": [
       "<AxesSubplot:>"
      ]
     },
     "execution_count": 26,
     "metadata": {},
     "output_type": "execute_result"
    },
    {
     "data": {
      "image/png": "[encoded data removed]",
      "text/plain": [
       "<Figure size 432x288 with 2 Axes>"
      ]
     },
     "metadata": {
      "needs_background": "light"
     },
     "output_type": "display_data"
    }
   ],
   "source": [
    "sns.heatmap(df3.corr(), annot=True)"
   ]
  },
  {
   "cell_type": "markdown",
   "id": "c2129726",
   "metadata": {},
   "source": [
    "### Feature Engineering "
   ]
  },
  {
   "cell_type": "markdown",
   "id": "e26df298",
   "metadata": {},
   "source": [
    "#### Feature Scaling "
   ]
  },
  {
   "cell_type": "code",
   "execution_count": 27,
   "id": "b1139880",
   "metadata": {},
   "outputs": [],
   "source": [
    "from sklearn.preprocessing import StandardScaler"
   ]
  },
  {
   "cell_type": "code",
   "execution_count": 28,
   "id": "e5b7d0a3",
   "metadata": {},
   "outputs": [
    {
     "data": {
      "text/html": [
       "<div>\n",
       "<style scoped>\n",
       "    .dataframe tbody tr th:only-of-type {\n",
       "        vertical-align: middle;\n",
       "    }\n",
       "\n",
       "    .dataframe tbody tr th {\n",
       "        vertical-align: top;\n",
       "    }\n",
       "\n",
       "    .dataframe thead th {\n",
       "        text-align: right;\n",
       "    }\n",
       "</style>\n",
       "<table border=\"1\" class=\"dataframe\">\n",
       "  <thead>\n",
       "    <tr style=\"text-align: right;\">\n",
       "      <th></th>\n",
       "      <th>location</th>\n",
       "      <th>Year</th>\n",
       "      <th>Month</th>\n",
       "      <th>Tmax</th>\n",
       "      <th>Tmin</th>\n",
       "      <th>RH</th>\n",
       "      <th>Wind Speed</th>\n",
       "      <th>Rainfall</th>\n",
       "    </tr>\n",
       "  </thead>\n",
       "  <tbody>\n",
       "    <tr>\n",
       "      <th>0</th>\n",
       "      <td>0.177428</td>\n",
       "      <td>-1.648572</td>\n",
       "      <td>-1.605380</td>\n",
       "      <td>-2.378026</td>\n",
       "      <td>-1.584065</td>\n",
       "      <td>-0.811750</td>\n",
       "      <td>-1.385373</td>\n",
       "      <td>-0.624550</td>\n",
       "    </tr>\n",
       "    <tr>\n",
       "      <th>1</th>\n",
       "      <td>0.177428</td>\n",
       "      <td>-1.648572</td>\n",
       "      <td>-1.314700</td>\n",
       "      <td>-2.159940</td>\n",
       "      <td>-1.231386</td>\n",
       "      <td>-0.811750</td>\n",
       "      <td>-0.726699</td>\n",
       "      <td>-0.624550</td>\n",
       "    </tr>\n",
       "    <tr>\n",
       "      <th>2</th>\n",
       "      <td>0.177428</td>\n",
       "      <td>-1.648572</td>\n",
       "      <td>-1.024021</td>\n",
       "      <td>-1.386725</td>\n",
       "      <td>-0.937488</td>\n",
       "      <td>-0.397809</td>\n",
       "      <td>-0.726699</td>\n",
       "      <td>-0.556670</td>\n",
       "    </tr>\n",
       "    <tr>\n",
       "      <th>3</th>\n",
       "      <td>0.177428</td>\n",
       "      <td>-1.648572</td>\n",
       "      <td>-0.733341</td>\n",
       "      <td>-0.375597</td>\n",
       "      <td>-0.246826</td>\n",
       "      <td>0.430072</td>\n",
       "      <td>-0.980035</td>\n",
       "      <td>-0.480151</td>\n",
       "    </tr>\n",
       "    <tr>\n",
       "      <th>4</th>\n",
       "      <td>0.177428</td>\n",
       "      <td>-1.648572</td>\n",
       "      <td>-0.442662</td>\n",
       "      <td>0.199358</td>\n",
       "      <td>-0.026402</td>\n",
       "      <td>0.430072</td>\n",
       "      <td>-1.436041</td>\n",
       "      <td>-0.017333</td>\n",
       "    </tr>\n",
       "  </tbody>\n",
       "</table>\n",
       "</div>"
      ],
      "text/plain": [
       "   location      Year     Month      Tmax      Tmin        RH  Wind Speed  \\\n",
       "0  0.177428 -1.648572 -1.605380 -2.378026 -1.584065 -0.811750   -1.385373   \n",
       "1  0.177428 -1.648572 -1.314700 -2.159940 -1.231386 -0.811750   -0.726699   \n",
       "2  0.177428 -1.648572 -1.024021 -1.386725 -0.937488 -0.397809   -0.726699   \n",
       "3  0.177428 -1.648572 -0.733341 -0.375597 -0.246826  0.430072   -0.980035   \n",
       "4  0.177428 -1.648572 -0.442662  0.199358 -0.026402  0.430072   -1.436041   \n",
       "\n",
       "   Rainfall  \n",
       "0 -0.624550  \n",
       "1 -0.624550  \n",
       "2 -0.556670  \n",
       "3 -0.480151  \n",
       "4 -0.017333  "
      ]
     },
     "execution_count": 28,
     "metadata": {},
     "output_type": "execute_result"
    }
   ],
   "source": [
    "sc = StandardScaler()\n",
    "scaled_data = sc.fit_transform(df3)\n",
    "df4 = pd.DataFrame(data=scaled_data,columns=df3.columns)\n",
    "df4.head()"
   ]
  },
  {
   "cell_type": "markdown",
   "id": "14197dea",
   "metadata": {},
   "source": [
    "### Model Training and Testing"
   ]
  },
  {
   "cell_type": "markdown",
   "id": "542c2517",
   "metadata": {},
   "source": [
    "#### Splitting Data "
   ]
  },
  {
   "cell_type": "code",
   "execution_count": 29,
   "id": "583012d1",
   "metadata": {},
   "outputs": [],
   "source": [
    "from sklearn.model_selection import train_test_split"
   ]
  },
  {
   "cell_type": "code",
   "execution_count": 30,
   "id": "b399842d",
   "metadata": {},
   "outputs": [],
   "source": [
    "x = df4[['location', 'Year', 'Month', 'Tmax', 'RH', 'Wind Speed', 'Rainfall']]\n",
    "y = df4['Rainfall']"
   ]
  },
  {
   "cell_type": "code",
   "execution_count": 31,
   "id": "3453e10f",
   "metadata": {},
   "outputs": [],
   "source": [
    "x_train, x_test, y_train, y_test = train_test_split(x, y, test_size = 0.2, random_state = 0)"
   ]
  },
  {
   "cell_type": "code",
   "execution_count": 32,
   "id": "896ec886",
   "metadata": {},
   "outputs": [
    {
     "data": {
      "text/plain": [
       "location      2065\n",
       "Year          2065\n",
       "Month         2065\n",
       "Tmax          2065\n",
       "RH            2065\n",
       "Wind Speed    2065\n",
       "Rainfall      2065\n",
       "dtype: int64"
      ]
     },
     "execution_count": 32,
     "metadata": {},
     "output_type": "execute_result"
    }
   ],
   "source": [
    "x_train.count()"
   ]
  },
  {
   "cell_type": "code",
   "execution_count": 33,
   "id": "202e5f0f",
   "metadata": {},
   "outputs": [
    {
     "data": {
      "text/plain": [
       "location      517\n",
       "Year          517\n",
       "Month         517\n",
       "Tmax          517\n",
       "RH            517\n",
       "Wind Speed    517\n",
       "Rainfall      517\n",
       "dtype: int64"
      ]
     },
     "execution_count": 33,
     "metadata": {},
     "output_type": "execute_result"
    }
   ],
   "source": [
    "x_test.count()"
   ]
  },
  {
   "cell_type": "markdown",
   "id": "bbf48a74",
   "metadata": {},
   "source": [
    "### Random Forest Algorithm"
   ]
  },
  {
   "cell_type": "code",
   "execution_count": 34,
   "id": "84b3b9df",
   "metadata": {},
   "outputs": [
    {
     "data": {
      "text/plain": [
       "RandomForestRegressor(n_estimators=10)"
      ]
     },
     "execution_count": 34,
     "metadata": {},
     "output_type": "execute_result"
    }
   ],
   "source": [
    "from sklearn.ensemble import RandomForestRegressor\n",
    "model_random = RandomForestRegressor(n_estimators=10)\n",
    "model_random.fit(x_train,y_train)"
   ]
  },
  {
   "cell_type": "code",
   "execution_count": 35,
   "id": "0b9ac4f4",
   "metadata": {},
   "outputs": [
    {
     "data": {
      "text/plain": [
       "array([-0.60967826, -0.53426973, -0.38110772, ..., -0.50100852,\n",
       "       -0.62455015, -0.24084292])"
      ]
     },
     "execution_count": 35,
     "metadata": {},
     "output_type": "execute_result"
    }
   ],
   "source": [
    "r_pred = model_random.predict(x_train)\n",
    "r_pred"
   ]
  },
  {
   "cell_type": "markdown",
   "id": "4548afdd",
   "metadata": {},
   "source": [
    "### Model Evaluation (Random Forest Algorithm)"
   ]
  },
  {
   "cell_type": "code",
   "execution_count": 36,
   "id": "b1a45e3f",
   "metadata": {},
   "outputs": [],
   "source": [
    "from sklearn.metrics import mean_absolute_error, r2_score, mean_squared_error\n",
    "import numpy as np"
   ]
  },
  {
   "cell_type": "code",
   "execution_count": 37,
   "id": "486303b9",
   "metadata": {},
   "outputs": [
    {
     "name": "stdout",
     "output_type": "stream",
     "text": [
      "Train set accuracy:  0.9983232426084764\n",
      "Test set accuracy :  0.9978713098692193\n",
      "MSE: 0.0021346321769221605\n",
      "root_mean_squared error:  0.046202079790006866\n"
     ]
    }
   ],
   "source": [
    "y_train_predicted = model_random.predict(x_train)\n",
    "y_test_predicted = model_random.predict(x_test)\n",
    "\n",
    "print(\"Train set accuracy: \",r2_score(y_train,y_train_predicted))\n",
    "\n",
    "print(\"Test set accuracy : \",r2_score(y_test,y_test_predicted))\n",
    "\n",
    "print(\"MSE:\",mean_squared_error(y_test,y_test_predicted))\n",
    "\n",
    "print('root_mean_squared error: ',np.sqrt(mean_squared_error(y_test,y_test_predicted)))  "
   ]
  },
  {
   "cell_type": "code",
   "execution_count": 38,
   "id": "dfb1fc94",
   "metadata": {},
   "outputs": [
    {
     "data": {
      "text/html": [
       "<div>\n",
       "<style scoped>\n",
       "    .dataframe tbody tr th:only-of-type {\n",
       "        vertical-align: middle;\n",
       "    }\n",
       "\n",
       "    .dataframe tbody tr th {\n",
       "        vertical-align: top;\n",
       "    }\n",
       "\n",
       "    .dataframe thead th {\n",
       "        text-align: right;\n",
       "    }\n",
       "</style>\n",
       "<table border=\"1\" class=\"dataframe\">\n",
       "  <thead>\n",
       "    <tr style=\"text-align: right;\">\n",
       "      <th></th>\n",
       "      <th>Actual</th>\n",
       "      <th>Predict</th>\n",
       "    </tr>\n",
       "  </thead>\n",
       "  <tbody>\n",
       "    <tr>\n",
       "      <th>2393</th>\n",
       "      <td>-0.624550</td>\n",
       "      <td>-0.624550</td>\n",
       "    </tr>\n",
       "    <tr>\n",
       "      <th>1906</th>\n",
       "      <td>0.412780</td>\n",
       "      <td>0.411916</td>\n",
       "    </tr>\n",
       "    <tr>\n",
       "      <th>1393</th>\n",
       "      <td>-0.578885</td>\n",
       "      <td>-0.579132</td>\n",
       "    </tr>\n",
       "    <tr>\n",
       "      <th>443</th>\n",
       "      <td>0.745392</td>\n",
       "      <td>0.745824</td>\n",
       "    </tr>\n",
       "    <tr>\n",
       "      <th>2275</th>\n",
       "      <td>-0.624550</td>\n",
       "      <td>-0.624550</td>\n",
       "    </tr>\n",
       "    <tr>\n",
       "      <th>1295</th>\n",
       "      <td>4.428809</td>\n",
       "      <td>4.365742</td>\n",
       "    </tr>\n",
       "    <tr>\n",
       "      <th>2261</th>\n",
       "      <td>-0.624550</td>\n",
       "      <td>-0.624550</td>\n",
       "    </tr>\n",
       "    <tr>\n",
       "      <th>1257</th>\n",
       "      <td>0.003649</td>\n",
       "      <td>0.002785</td>\n",
       "    </tr>\n",
       "    <tr>\n",
       "      <th>964</th>\n",
       "      <td>-0.624550</td>\n",
       "      <td>-0.624550</td>\n",
       "    </tr>\n",
       "    <tr>\n",
       "      <th>215</th>\n",
       "      <td>-0.612208</td>\n",
       "      <td>-0.612270</td>\n",
       "    </tr>\n",
       "  </tbody>\n",
       "</table>\n",
       "</div>"
      ],
      "text/plain": [
       "        Actual   Predict\n",
       "2393 -0.624550 -0.624550\n",
       "1906  0.412780  0.411916\n",
       "1393 -0.578885 -0.579132\n",
       "443   0.745392  0.745824\n",
       "2275 -0.624550 -0.624550\n",
       "1295  4.428809  4.365742\n",
       "2261 -0.624550 -0.624550\n",
       "1257  0.003649  0.002785\n",
       "964  -0.624550 -0.624550\n",
       "215  -0.612208 -0.612270"
      ]
     },
     "execution_count": 38,
     "metadata": {},
     "output_type": "execute_result"
    }
   ],
   "source": [
    "#actual vs predict\n",
    "result = pd.concat([x_test['Rainfall'], pd.Series(y_test_predicted, index=x_test.index)], axis=1)\n",
    "result.columns = ['Actual', 'Predict']\n",
    "result.head(10)"
   ]
  },
  {
   "cell_type": "markdown",
   "id": "ab707416",
   "metadata": {},
   "source": [
    "### Decision Tree Algorithm"
   ]
  },
  {
   "cell_type": "code",
   "execution_count": 39,
   "id": "5c45bcce",
   "metadata": {},
   "outputs": [
    {
     "data": {
      "text/plain": [
       "DecisionTreeRegressor(max_depth=5)"
      ]
     },
     "execution_count": 39,
     "metadata": {},
     "output_type": "execute_result"
    }
   ],
   "source": [
    "from sklearn.tree import DecisionTreeRegressor\n",
    "model_decision = DecisionTreeRegressor(max_depth=5)\n",
    "model_decision.fit(x_train, y_train)"
   ]
  },
  {
   "cell_type": "code",
   "execution_count": 40,
   "id": "01c3059e",
   "metadata": {},
   "outputs": [],
   "source": [
    "K_pred=model_decision.predict(x_test)"
   ]
  },
  {
   "cell_type": "code",
   "execution_count": 41,
   "id": "3104cc55",
   "metadata": {},
   "outputs": [
    {
     "name": "stdout",
     "output_type": "stream",
     "text": [
      "Train set accuracy:  0.9983814338296196\n",
      "Test set accuracy :  0.974695428271805\n",
      "MSE: 0.025375207153532458\n",
      "RMSE:  0.15929597343791355\n"
     ]
    }
   ],
   "source": [
    "y_train_predicted = model_decision.predict(x_train)\n",
    "y_test_predicted = model_decision.predict(x_test)\n",
    "print(\"Train set accuracy: \",r2_score(y_train,y_train_predicted))\n",
    "print(\"Test set accuracy : \",r2_score(y_test,y_test_predicted))\n",
    "print(\"MSE:\",mean_squared_error(y_test,y_test_predicted))\n",
    "print('RMSE: ',np.sqrt(mean_squared_error(y_test,y_test_predicted))) "
   ]
  },
  {
   "cell_type": "markdown",
   "id": "38fc9cd0",
   "metadata": {},
   "source": [
    "### Model Evaluation (Decision Tree Algorithm)"
   ]
  },
  {
   "cell_type": "code",
   "execution_count": 42,
   "id": "c8fed053",
   "metadata": {},
   "outputs": [
    {
     "name": "stdout",
     "output_type": "stream",
     "text": [
      "Train set accuracy:  0.9983814338296196\n",
      "Test set accuracy :  0.974695428271805\n",
      "MSE: 0.025375207153532458\n",
      "RMSE:  0.15929597343791355\n"
     ]
    }
   ],
   "source": [
    "y_train_predicted = model_decision.predict(x_train)\n",
    "y_test_predicted = model_decision.predict(x_test)\n",
    "print(\"Train set accuracy: \",r2_score(y_train,y_train_predicted))\n",
    "print(\"Test set accuracy : \",r2_score(y_test,y_test_predicted))\n",
    "print(\"MSE:\",mean_squared_error(y_test,y_test_predicted))\n",
    "print('RMSE: ',np.sqrt(mean_squared_error(y_test, y_test_predicted))) "
   ]
  },
  {
   "cell_type": "code",
   "execution_count": 43,
   "id": "9ad9c152",
   "metadata": {},
   "outputs": [
    {
     "data": {
      "text/html": [
       "<div>\n",
       "<style scoped>\n",
       "    .dataframe tbody tr th:only-of-type {\n",
       "        vertical-align: middle;\n",
       "    }\n",
       "\n",
       "    .dataframe tbody tr th {\n",
       "        vertical-align: top;\n",
       "    }\n",
       "\n",
       "    .dataframe thead th {\n",
       "        text-align: right;\n",
       "    }\n",
       "</style>\n",
       "<table border=\"1\" class=\"dataframe\">\n",
       "  <thead>\n",
       "    <tr style=\"text-align: right;\">\n",
       "      <th></th>\n",
       "      <th>Actual</th>\n",
       "      <th>Predicted</th>\n",
       "    </tr>\n",
       "  </thead>\n",
       "  <tbody>\n",
       "    <tr>\n",
       "      <th>2393</th>\n",
       "      <td>-0.624550</td>\n",
       "      <td>-0.619292</td>\n",
       "    </tr>\n",
       "    <tr>\n",
       "      <th>1906</th>\n",
       "      <td>0.412780</td>\n",
       "      <td>0.340508</td>\n",
       "    </tr>\n",
       "    <tr>\n",
       "      <th>1393</th>\n",
       "      <td>-0.578885</td>\n",
       "      <td>-0.571011</td>\n",
       "    </tr>\n",
       "    <tr>\n",
       "      <th>443</th>\n",
       "      <td>0.745392</td>\n",
       "      <td>0.704499</td>\n",
       "    </tr>\n",
       "    <tr>\n",
       "      <th>2275</th>\n",
       "      <td>-0.624550</td>\n",
       "      <td>-0.619292</td>\n",
       "    </tr>\n",
       "    <tr>\n",
       "      <th>1295</th>\n",
       "      <td>4.428809</td>\n",
       "      <td>4.395949</td>\n",
       "    </tr>\n",
       "    <tr>\n",
       "      <th>2261</th>\n",
       "      <td>-0.624550</td>\n",
       "      <td>-0.619292</td>\n",
       "    </tr>\n",
       "    <tr>\n",
       "      <th>1257</th>\n",
       "      <td>0.003649</td>\n",
       "      <td>0.064161</td>\n",
       "    </tr>\n",
       "    <tr>\n",
       "      <th>964</th>\n",
       "      <td>-0.624550</td>\n",
       "      <td>-0.619292</td>\n",
       "    </tr>\n",
       "    <tr>\n",
       "      <th>215</th>\n",
       "      <td>-0.612208</td>\n",
       "      <td>-0.619292</td>\n",
       "    </tr>\n",
       "  </tbody>\n",
       "</table>\n",
       "</div>"
      ],
      "text/plain": [
       "        Actual  Predicted\n",
       "2393 -0.624550  -0.619292\n",
       "1906  0.412780   0.340508\n",
       "1393 -0.578885  -0.571011\n",
       "443   0.745392   0.704499\n",
       "2275 -0.624550  -0.619292\n",
       "1295  4.428809   4.395949\n",
       "2261 -0.624550  -0.619292\n",
       "1257  0.003649   0.064161\n",
       "964  -0.624550  -0.619292\n",
       "215  -0.612208  -0.619292"
      ]
     },
     "execution_count": 43,
     "metadata": {},
     "output_type": "execute_result"
    }
   ],
   "source": [
    "#actual vs predict\n",
    "result = pd.DataFrame({'Actual':y_test,'Predicted':K_pred})\n",
    "result.head(10)"
   ]
  },
  {
   "cell_type": "markdown",
   "id": "fbbfde00",
   "metadata": {},
   "source": [
    "### KNN Algorithm"
   ]
  },
  {
   "cell_type": "code",
   "execution_count": 44,
   "id": "c5e3695a",
   "metadata": {},
   "outputs": [],
   "source": [
    "from sklearn.neighbors import KNeighborsRegressor"
   ]
  },
  {
   "cell_type": "code",
   "execution_count": 45,
   "id": "ad4419d2",
   "metadata": {},
   "outputs": [
    {
     "data": {
      "text/plain": [
       "KNeighborsRegressor(n_neighbors=10)"
      ]
     },
     "execution_count": 45,
     "metadata": {},
     "output_type": "execute_result"
    }
   ],
   "source": [
    "model_KNNR = KNeighborsRegressor(10)\n",
    "model_KNNR.fit(x_train,y_train)"
   ]
  },
  {
   "cell_type": "code",
   "execution_count": 46,
   "id": "bce53899",
   "metadata": {},
   "outputs": [],
   "source": [
    "K_pred = model_KNNR.predict(x_test)"
   ]
  },
  {
   "cell_type": "markdown",
   "id": "3514af05",
   "metadata": {},
   "source": [
    "### Model Evaluation (KNN Algorithm)"
   ]
  },
  {
   "cell_type": "code",
   "execution_count": 47,
   "id": "37ec71cc",
   "metadata": {},
   "outputs": [
    {
     "name": "stdout",
     "output_type": "stream",
     "text": [
      "Train set accuracy:  0.9474446991301776\n",
      "Test set accuracy :  0.9489670125485947\n",
      "MSE: 0.05117544142429156\n",
      "RMSE:  0.2262198961724887\n"
     ]
    }
   ],
   "source": [
    "y_train_predicted = model_KNNR.predict(x_train)\n",
    "y_test_predicted = model_KNNR.predict(x_test)\n",
    "\n",
    "print(\"Train set accuracy: \",r2_score(y_train,y_train_predicted))\n",
    "\n",
    "print(\"Test set accuracy : \",r2_score(y_test,y_test_predicted))\n",
    "\n",
    "print(\"MSE:\",mean_squared_error(y_test,y_test_predicted))\n",
    "\n",
    "print('RMSE: ',np.sqrt(mean_squared_error(y_test,y_test_predicted))) "
   ]
  },
  {
   "cell_type": "code",
   "execution_count": 48,
   "id": "3f0ba36e",
   "metadata": {},
   "outputs": [
    {
     "data": {
      "text/html": [
       "<div>\n",
       "<style scoped>\n",
       "    .dataframe tbody tr th:only-of-type {\n",
       "        vertical-align: middle;\n",
       "    }\n",
       "\n",
       "    .dataframe tbody tr th {\n",
       "        vertical-align: top;\n",
       "    }\n",
       "\n",
       "    .dataframe thead th {\n",
       "        text-align: right;\n",
       "    }\n",
       "</style>\n",
       "<table border=\"1\" class=\"dataframe\">\n",
       "  <thead>\n",
       "    <tr style=\"text-align: right;\">\n",
       "      <th></th>\n",
       "      <th>Actual</th>\n",
       "      <th>Predicted</th>\n",
       "    </tr>\n",
       "  </thead>\n",
       "  <tbody>\n",
       "    <tr>\n",
       "      <th>2393</th>\n",
       "      <td>-0.624550</td>\n",
       "      <td>-0.540070</td>\n",
       "    </tr>\n",
       "    <tr>\n",
       "      <th>1906</th>\n",
       "      <td>0.412780</td>\n",
       "      <td>0.072207</td>\n",
       "    </tr>\n",
       "    <tr>\n",
       "      <th>1393</th>\n",
       "      <td>-0.578885</td>\n",
       "      <td>-0.554510</td>\n",
       "    </tr>\n",
       "    <tr>\n",
       "      <th>443</th>\n",
       "      <td>0.745392</td>\n",
       "      <td>0.481709</td>\n",
       "    </tr>\n",
       "    <tr>\n",
       "      <th>2275</th>\n",
       "      <td>-0.624550</td>\n",
       "      <td>-0.568518</td>\n",
       "    </tr>\n",
       "    <tr>\n",
       "      <th>1295</th>\n",
       "      <td>4.428809</td>\n",
       "      <td>4.316930</td>\n",
       "    </tr>\n",
       "    <tr>\n",
       "      <th>2261</th>\n",
       "      <td>-0.624550</td>\n",
       "      <td>-0.600484</td>\n",
       "    </tr>\n",
       "    <tr>\n",
       "      <th>1257</th>\n",
       "      <td>0.003649</td>\n",
       "      <td>-0.087064</td>\n",
       "    </tr>\n",
       "    <tr>\n",
       "      <th>964</th>\n",
       "      <td>-0.624550</td>\n",
       "      <td>-0.513227</td>\n",
       "    </tr>\n",
       "    <tr>\n",
       "      <th>215</th>\n",
       "      <td>-0.612208</td>\n",
       "      <td>-0.542292</td>\n",
       "    </tr>\n",
       "  </tbody>\n",
       "</table>\n",
       "</div>"
      ],
      "text/plain": [
       "        Actual  Predicted\n",
       "2393 -0.624550  -0.540070\n",
       "1906  0.412780   0.072207\n",
       "1393 -0.578885  -0.554510\n",
       "443   0.745392   0.481709\n",
       "2275 -0.624550  -0.568518\n",
       "1295  4.428809   4.316930\n",
       "2261 -0.624550  -0.600484\n",
       "1257  0.003649  -0.087064\n",
       "964  -0.624550  -0.513227\n",
       "215  -0.612208  -0.542292"
      ]
     },
     "execution_count": 48,
     "metadata": {},
     "output_type": "execute_result"
    }
   ],
   "source": [
    "#actual vs predict\n",
    "result = pd.DataFrame({'Actual':y_test,'Predicted':K_pred})\n",
    "result.head(10)"
   ]
  },
  {
   "cell_type": "markdown",
   "id": "7607ccf1",
   "metadata": {},
   "source": [
    "### Using  Pipeline"
   ]
  },
  {
   "cell_type": "code",
   "execution_count": 49,
   "id": "205c5887",
   "metadata": {},
   "outputs": [],
   "source": [
    "x = df4.drop('Rainfall',axis=1)\n",
    "y = df4['Rainfall']"
   ]
  },
  {
   "cell_type": "code",
   "execution_count": 50,
   "id": "b8770e18",
   "metadata": {},
   "outputs": [],
   "source": [
    "x_train, x_test, y_train, y_test = train_test_split(x, y , test_size = 0.20, shuffle=True, random_state=50)"
   ]
  },
  {
   "cell_type": "code",
   "execution_count": 51,
   "id": "c6288a9e",
   "metadata": {},
   "outputs": [],
   "source": [
    "from sklearn.pipeline import Pipeline\n",
    "from sklearn.impute import SimpleImputer\n",
    "from sklearn.preprocessing import StandardScaler,OneHotEncoder"
   ]
  },
  {
   "cell_type": "code",
   "execution_count": 52,
   "id": "c931c9ef",
   "metadata": {},
   "outputs": [
    {
     "data": {
      "text/plain": [
       "Index(['location', 'Year', 'Month', 'Tmax', 'Tmin', 'RH', 'Wind Speed'], dtype='object')"
      ]
     },
     "execution_count": 52,
     "metadata": {},
     "output_type": "execute_result"
    }
   ],
   "source": [
    "numeric_col = x.select_dtypes(include=['int64','float64']).columns\n",
    "numeric_col"
   ]
  },
  {
   "cell_type": "code",
   "execution_count": 53,
   "id": "c5e06601",
   "metadata": {},
   "outputs": [
    {
     "data": {
      "text/plain": [
       "Index([], dtype='object')"
      ]
     },
     "execution_count": 53,
     "metadata": {},
     "output_type": "execute_result"
    }
   ],
   "source": [
    "categorical_col = x.select_dtypes(include=['object']).columns\n",
    "categorical_col"
   ]
  },
  {
   "cell_type": "code",
   "execution_count": 54,
   "id": "be7a1aad",
   "metadata": {},
   "outputs": [
    {
     "data": {
      "text/plain": [
       "[0, 1, 2, 3, 4, 5, 6]"
      ]
     },
     "execution_count": 54,
     "metadata": {},
     "output_type": "execute_result"
    }
   ],
   "source": [
    "numeric_index = [x.columns.get_loc(col) for col in numeric_col]\n",
    "numeric_index"
   ]
  },
  {
   "cell_type": "code",
   "execution_count": 55,
   "id": "e99ba661",
   "metadata": {},
   "outputs": [
    {
     "data": {
      "text/plain": [
       "[]"
      ]
     },
     "execution_count": 55,
     "metadata": {},
     "output_type": "execute_result"
    }
   ],
   "source": [
    "categorical_index = [x.columns.get_loc(col) for col in categorical_col]\n",
    "categorical_index"
   ]
  },
  {
   "cell_type": "code",
   "execution_count": 56,
   "id": "21277b77",
   "metadata": {},
   "outputs": [],
   "source": [
    "#Building the Numeric Transformation Pipeline\n",
    "numeric_transformer = Pipeline(steps = [\n",
    "    ('imputer',SimpleImputer(strategy='mean')),\n",
    "    ('scaler',StandardScaler())\n",
    "] )"
   ]
  },
  {
   "cell_type": "code",
   "execution_count": 57,
   "id": "49ec01ca",
   "metadata": {},
   "outputs": [],
   "source": [
    "#Building the Categorical Transformation Pipeline\n",
    "categorical_transformer = Pipeline(steps=[\n",
    "    ('imputer',SimpleImputer(strategy = 'most_frequent',fill_value='missing')),\n",
    "    ('le',OneHotEncoder(handle_unknown='ignore'))\n",
    "])"
   ]
  },
  {
   "cell_type": "code",
   "execution_count": 58,
   "id": "022ff692",
   "metadata": {},
   "outputs": [],
   "source": [
    "from sklearn.compose import ColumnTransformer\n",
    "preprocessor = ColumnTransformer(\n",
    "    transformers = [('num',numeric_transformer,numeric_index),\n",
    "                ('label',categorical_transformer,categorical_index)]\n",
    ")"
   ]
  },
  {
   "cell_type": "code",
   "execution_count": 59,
   "id": "1115176b",
   "metadata": {},
   "outputs": [],
   "source": [
    "from sklearn import svm\n",
    "model = svm.SVR(kernel='rbf',C=5000,gamma='scale')"
   ]
  },
  {
   "cell_type": "code",
   "execution_count": 60,
   "id": "794da4ae",
   "metadata": {},
   "outputs": [],
   "source": [
    "#Assemble the individual blocks to form the main pipeline\n",
    "my_pipeline = Pipeline(steps=[\n",
    "    ('preprocessor', preprocessor),\n",
    "    ('model', model)\n",
    "])"
   ]
  },
  {
   "cell_type": "code",
   "execution_count": 61,
   "id": "c2a7be90",
   "metadata": {},
   "outputs": [
    {
     "data": {
      "text/html": [
       "<style>#sk-eab432a0-0615-4072-b09f-16a8a2edaaa1 {color: black;background-color: white;}#sk-eab432a0-0615-4072-b09f-16a8a2edaaa1 pre{padding: 0;}#sk-eab432a0-0615-4072-b09f-16a8a2edaaa1 div.sk-toggleable {background-color: white;}#sk-eab432a0-0615-4072-b09f-16a8a2edaaa1 label.sk-toggleable__label {cursor: pointer;display: block;width: 100%;margin-bottom: 0;padding: 0.2em 0.3em;box-sizing: border-box;text-align: center;}#sk-eab432a0-0615-4072-b09f-16a8a2edaaa1 div.sk-toggleable__content {max-height: 0;max-width: 0;overflow: hidden;text-align: left;background-color: #f0f8ff;}#sk-eab432a0-0615-4072-b09f-16a8a2edaaa1 div.sk-toggleable__content pre {margin: 0.2em;color: black;border-radius: 0.25em;background-color: #f0f8ff;}#sk-eab432a0-0615-4072-b09f-16a8a2edaaa1 input.sk-toggleable__control:checked~div.sk-toggleable__content {max-height: 200px;max-width: 100%;overflow: auto;}#sk-eab432a0-0615-4072-b09f-16a8a2edaaa1 div.sk-estimator input.sk-toggleable__control:checked~label.sk-toggleable__label {background-color: #d4ebff;}#sk-eab432a0-0615-4072-b09f-16a8a2edaaa1 div.sk-label input.sk-toggleable__control:checked~label.sk-toggleable__label {background-color: #d4ebff;}#sk-eab432a0-0615-4072-b09f-16a8a2edaaa1 input.sk-hidden--visually {border: 0;clip: rect(1px 1px 1px 1px);clip: rect(1px, 1px, 1px, 1px);height: 1px;margin: -1px;overflow: hidden;padding: 0;position: absolute;width: 1px;}#sk-eab432a0-0615-4072-b09f-16a8a2edaaa1 div.sk-estimator {font-family: monospace;background-color: #f0f8ff;margin: 0.25em 0.25em;border: 1px dotted black;border-radius: 0.25em;box-sizing: border-box;}#sk-eab432a0-0615-4072-b09f-16a8a2edaaa1 div.sk-estimator:hover {background-color: #d4ebff;}#sk-eab432a0-0615-4072-b09f-16a8a2edaaa1 div.sk-parallel-item::after {content: \"\";width: 100%;border-bottom: 1px solid gray;flex-grow: 1;}#sk-eab432a0-0615-4072-b09f-16a8a2edaaa1 div.sk-label:hover label.sk-toggleable__label {background-color: #d4ebff;}#sk-eab432a0-0615-4072-b09f-16a8a2edaaa1 div.sk-serial::before {content: \"\";position: absolute;border-left: 1px solid gray;box-sizing: border-box;top: 2em;bottom: 0;left: 50%;}#sk-eab432a0-0615-4072-b09f-16a8a2edaaa1 div.sk-serial {display: flex;flex-direction: column;align-items: center;background-color: white;}#sk-eab432a0-0615-4072-b09f-16a8a2edaaa1 div.sk-item {z-index: 1;}#sk-eab432a0-0615-4072-b09f-16a8a2edaaa1 div.sk-parallel {display: flex;align-items: stretch;justify-content: center;background-color: white;}#sk-eab432a0-0615-4072-b09f-16a8a2edaaa1 div.sk-parallel-item {display: flex;flex-direction: column;position: relative;background-color: white;}#sk-eab432a0-0615-4072-b09f-16a8a2edaaa1 div.sk-parallel-item:first-child::after {align-self: flex-end;width: 50%;}#sk-eab432a0-0615-4072-b09f-16a8a2edaaa1 div.sk-parallel-item:last-child::after {align-self: flex-start;width: 50%;}#sk-eab432a0-0615-4072-b09f-16a8a2edaaa1 div.sk-parallel-item:only-child::after {width: 0;}#sk-eab432a0-0615-4072-b09f-16a8a2edaaa1 div.sk-dashed-wrapped {border: 1px dashed gray;margin: 0.2em;box-sizing: border-box;padding-bottom: 0.1em;background-color: white;position: relative;}#sk-eab432a0-0615-4072-b09f-16a8a2edaaa1 div.sk-label label {font-family: monospace;font-weight: bold;background-color: white;display: inline-block;line-height: 1.2em;}#sk-eab432a0-0615-4072-b09f-16a8a2edaaa1 div.sk-label-container {position: relative;z-index: 2;text-align: center;}#sk-eab432a0-0615-4072-b09f-16a8a2edaaa1 div.sk-container {display: inline-block;position: relative;}</style><div id=\"sk-eab432a0-0615-4072-b09f-16a8a2edaaa1\" class\"sk-top-container\"><div class=\"sk-container\"><div class=\"sk-item sk-dashed-wrapped\"><div class=\"sk-label-container\"><div class=\"sk-label sk-toggleable\"><input class=\"sk-toggleable__control sk-hidden--visually\" id=\"e0e473bb-3696-463d-a7d1-d552beed15fb\" type=\"checkbox\" ><label class=\"sk-toggleable__label\" for=\"e0e473bb-3696-463d-a7d1-d552beed15fb\">Pipeline</label><div class=\"sk-toggleable__content\"><pre>Pipeline(steps=[('preprocessor',\n",
       "                 ColumnTransformer(transformers=[('num',\n",
       "                                                  Pipeline(steps=[('imputer',\n",
       "                                                                   SimpleImputer()),\n",
       "                                                                  ('scaler',\n",
       "                                                                   StandardScaler())]),\n",
       "                                                  [0, 1, 2, 3, 4, 5, 6]),\n",
       "                                                 ('label',\n",
       "                                                  Pipeline(steps=[('imputer',\n",
       "                                                                   SimpleImputer(fill_value='missing',\n",
       "                                                                                 strategy='most_frequent')),\n",
       "                                                                  ('le',\n",
       "                                                                   OneHotEncoder(handle_unknown='ignore'))]),\n",
       "                                                  [])])),\n",
       "                ('model', SVR(C=5000))])</pre></div></div></div><div class=\"sk-serial\"><div class=\"sk-item sk-dashed-wrapped\"><div class=\"sk-label-container\"><div class=\"sk-label sk-toggleable\"><input class=\"sk-toggleable__control sk-hidden--visually\" id=\"a8afe5c7-b11e-4b37-aae9-f245b6f4d3cf\" type=\"checkbox\" ><label class=\"sk-toggleable__label\" for=\"a8afe5c7-b11e-4b37-aae9-f245b6f4d3cf\">preprocessor: ColumnTransformer</label><div class=\"sk-toggleable__content\"><pre>ColumnTransformer(transformers=[('num',\n",
       "                                 Pipeline(steps=[('imputer', SimpleImputer()),\n",
       "                                                 ('scaler', StandardScaler())]),\n",
       "                                 [0, 1, 2, 3, 4, 5, 6]),\n",
       "                                ('label',\n",
       "                                 Pipeline(steps=[('imputer',\n",
       "                                                  SimpleImputer(fill_value='missing',\n",
       "                                                                strategy='most_frequent')),\n",
       "                                                 ('le',\n",
       "                                                  OneHotEncoder(handle_unknown='ignore'))]),\n",
       "                                 [])])</pre></div></div></div><div class=\"sk-parallel\"><div class=\"sk-parallel-item\"><div class=\"sk-item\"><div class=\"sk-label-container\"><div class=\"sk-label sk-toggleable\"><input class=\"sk-toggleable__control sk-hidden--visually\" id=\"d5481505-bb6f-470b-94f1-a805456cab8f\" type=\"checkbox\" ><label class=\"sk-toggleable__label\" for=\"d5481505-bb6f-470b-94f1-a805456cab8f\">num</label><div class=\"sk-toggleable__content\"><pre>[0, 1, 2, 3, 4, 5, 6]</pre></div></div></div><div class=\"sk-serial\"><div class=\"sk-item\"><div class=\"sk-serial\"><div class=\"sk-item\"><div class=\"sk-estimator sk-toggleable\"><input class=\"sk-toggleable__control sk-hidden--visually\" id=\"5fed1236-edff-4e5e-b9f9-c268205b4fa4\" type=\"checkbox\" ><label class=\"sk-toggleable__label\" for=\"5fed1236-edff-4e5e-b9f9-c268205b4fa4\">SimpleImputer</label><div class=\"sk-toggleable__content\"><pre>SimpleImputer()</pre></div></div></div><div class=\"sk-item\"><div class=\"sk-estimator sk-toggleable\"><input class=\"sk-toggleable__control sk-hidden--visually\" id=\"75ba09e6-026f-416e-87ce-774d65cf28b1\" type=\"checkbox\" ><label class=\"sk-toggleable__label\" for=\"75ba09e6-026f-416e-87ce-774d65cf28b1\">StandardScaler</label><div class=\"sk-toggleable__content\"><pre>StandardScaler()</pre></div></div></div></div></div></div></div></div><div class=\"sk-parallel-item\"><div class=\"sk-item\"><div class=\"sk-label-container\"><div class=\"sk-label sk-toggleable\"><input class=\"sk-toggleable__control sk-hidden--visually\" id=\"7d6cd49c-0dec-4c72-b7af-f90cca5cb5b7\" type=\"checkbox\" ><label class=\"sk-toggleable__label\" for=\"7d6cd49c-0dec-4c72-b7af-f90cca5cb5b7\">label</label><div class=\"sk-toggleable__content\"><pre>[]</pre></div></div></div><div class=\"sk-serial\"><div class=\"sk-item\"><div class=\"sk-serial\"><div class=\"sk-item\"><div class=\"sk-estimator sk-toggleable\"><input class=\"sk-toggleable__control sk-hidden--visually\" id=\"2a161f4b-2073-4b0d-b042-24903106a630\" type=\"checkbox\" ><label class=\"sk-toggleable__label\" for=\"2a161f4b-2073-4b0d-b042-24903106a630\">SimpleImputer</label><div class=\"sk-toggleable__content\"><pre>SimpleImputer(fill_value='missing', strategy='most_frequent')</pre></div></div></div><div class=\"sk-item\"><div class=\"sk-estimator sk-toggleable\"><input class=\"sk-toggleable__control sk-hidden--visually\" id=\"2981b8d0-5042-4c0a-bcc5-4203e033d2b9\" type=\"checkbox\" ><label class=\"sk-toggleable__label\" for=\"2981b8d0-5042-4c0a-bcc5-4203e033d2b9\">OneHotEncoder</label><div class=\"sk-toggleable__content\"><pre>OneHotEncoder(handle_unknown='ignore')</pre></div></div></div></div></div></div></div></div></div></div><div class=\"sk-item\"><div class=\"sk-estimator sk-toggleable\"><input class=\"sk-toggleable__control sk-hidden--visually\" id=\"9193a8c4-ac3b-4436-9cf5-afca9b3f7f74\" type=\"checkbox\" ><label class=\"sk-toggleable__label\" for=\"9193a8c4-ac3b-4436-9cf5-afca9b3f7f74\">SVR</label><div class=\"sk-toggleable__content\"><pre>SVR(C=5000)</pre></div></div></div></div></div></div></div>"
      ],
      "text/plain": [
       "Pipeline(steps=[('preprocessor',\n",
       "                 ColumnTransformer(transformers=[('num',\n",
       "                                                  Pipeline(steps=[('imputer',\n",
       "                                                                   SimpleImputer()),\n",
       "                                                                  ('scaler',\n",
       "                                                                   StandardScaler())]),\n",
       "                                                  [0, 1, 2, 3, 4, 5, 6]),\n",
       "                                                 ('label',\n",
       "                                                  Pipeline(steps=[('imputer',\n",
       "                                                                   SimpleImputer(fill_value='missing',\n",
       "                                                                                 strategy='most_frequent')),\n",
       "                                                                  ('le',\n",
       "                                                                   OneHotEncoder(handle_unknown='ignore'))]),\n",
       "                                                  [])])),\n",
       "                ('model', SVR(C=5000))])"
      ]
     },
     "execution_count": 61,
     "metadata": {},
     "output_type": "execute_result"
    }
   ],
   "source": [
    "from sklearn import set_config\n",
    "set_config(display='diagram')\n",
    "my_pipeline.fit(x_train, y_train)"
   ]
  },
  {
   "cell_type": "code",
   "execution_count": 62,
   "id": "68e1db8f",
   "metadata": {},
   "outputs": [
    {
     "data": {
      "text/plain": [
       "['model.joblib']"
      ]
     },
     "execution_count": 62,
     "metadata": {},
     "output_type": "execute_result"
    }
   ],
   "source": [
    "from joblib import load, dump\n",
    "dump(my_pipeline,'model.joblib')"
   ]
  },
  {
   "cell_type": "code",
   "execution_count": 63,
   "id": "2d427fc3",
   "metadata": {},
   "outputs": [
    {
     "data": {
      "text/plain": [
       "0.911712831009658"
      ]
     },
     "execution_count": 63,
     "metadata": {},
     "output_type": "execute_result"
    }
   ],
   "source": [
    "my_pipeline.score(x_train,y_train)"
   ]
  },
  {
   "cell_type": "code",
   "execution_count": 64,
   "id": "a09b94d1",
   "metadata": {},
   "outputs": [
    {
     "data": {
      "text/plain": [
       "0.48017243839091805"
      ]
     },
     "execution_count": 64,
     "metadata": {},
     "output_type": "execute_result"
    }
   ],
   "source": [
    "my_pipeline.score(x_test,y_test)"
   ]
  },
  {
   "cell_type": "code",
   "execution_count": 65,
   "id": "b4a9d720",
   "metadata": {},
   "outputs": [],
   "source": [
    "y_pred = my_pipeline.predict(x_test)"
   ]
  },
  {
   "cell_type": "code",
   "execution_count": 66,
   "id": "cf503053",
   "metadata": {},
   "outputs": [
    {
     "name": "stdout",
     "output_type": "stream",
     "text": [
      "MSE: 0.516145952792285\n",
      "RMSE:  0.718432984204014\n"
     ]
    }
   ],
   "source": [
    "print(\"MSE:\", mean_squared_error(y_test,y_pred))\n",
    "\n",
    "print('RMSE: ', np.sqrt(mean_squared_error(y_test,y_pred)))                                                                                                                                          "
   ]
  }
 ],
 "metadata": {
  "kernelspec": {
   "display_name": "Python 3 (ipykernel)",
   "language": "python",
   "name": "python3"
  },
  "language_info": {
   "codemirror_mode": {
    "name": "ipython",
    "version": 3
   },
   "file_extension": ".py",
   "mimetype": "text/x-python",
   "name": "python",
   "nbconvert_exporter": "python",
   "pygments_lexer": "ipython3",
   "version": "3.9.7"
  }
 },
 "nbformat": 4,
 "nbformat_minor": 5
}
